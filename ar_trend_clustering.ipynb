{
  "nbformat": 4,
  "nbformat_minor": 0,
  "metadata": {
    "colab": {
      "provenance": [],
      "collapsed_sections": [
        "pndyYpNtiVG8"
      ],
      "toc_visible": true
    },
    "kernelspec": {
      "name": "python3",
      "display_name": "Python 3"
    },
    "language_info": {
      "name": "python"
    }
  },
  "cells": [
    {
      "cell_type": "markdown",
      "source": [
        "#INTRODUCCIÓN"
      ],
      "metadata": {
        "id": "OmVOi0ojgtgH"
      }
    },
    {
      "cell_type": "markdown",
      "source": [
        "¿Es posible desarrollar un detector de tendencias sólo con un indicador y clusterización?\n",
        "\n",
        "Se va a comprobar si es posible con el Williams %R, que no es más que una normalización del precio.\n",
        "\n",
        "La hipótesis es que si el indicador tiene la mínima capacidad predictiva, con la generación de 2 clústers obtendremos un clúster que se identifica con las tendencias alcistas y otro con las tendencias bajistas.\n",
        "\n",
        "Para comprobarlo se realizarán los siguientes pasos:\n",
        "\n",
        "1) cálculo del Williams %R para un rango de parámetros a modo de variables\n",
        "\n",
        "2) generación de 2 clústers con K-Means en el periodo de entrenamiento\n",
        "\n",
        "3) comprobación en forward\n",
        "\n",
        "Se utilizarán los siguientes periodos:\n",
        "\n",
        "- train: 01/01/2010 -01/01/2020\n",
        "- forward: 01/01/2020 - 01/01/2023"
      ],
      "metadata": {
        "id": "8khJLjeggwtm"
      }
    },
    {
      "cell_type": "markdown",
      "source": [
        "#ENTORNO"
      ],
      "metadata": {
        "id": "15VmGRcLiTfG"
      }
    },
    {
      "cell_type": "markdown",
      "source": [
        "##DATOS"
      ],
      "metadata": {
        "id": "pndyYpNtiVG8"
      }
    },
    {
      "cell_type": "markdown",
      "source": [
        "El activo utilizado en este código será el EURUSD en diario disponible en los siguientes enlaces:\n",
        "\n",
        "- descarga: https://drive.google.com/uc?id=1inRqthKmwbzhzgXdv9FbpEvp8gRA5RnQ\n",
        "\n",
        "- visualización: https://drive.google.com/file/d/1inRqthKmwbzhzgXdv9FbpEvp8gRA5RnQ/view?usp=sharing"
      ],
      "metadata": {
        "id": "HoTIJgryhBEE"
      }
    },
    {
      "cell_type": "markdown",
      "source": [
        "##LIBRERÍAS"
      ],
      "metadata": {
        "id": "EKgdWqP-iewT"
      }
    },
    {
      "cell_type": "code",
      "source": [
        "#INSTALACIÓN DE LIBRERÍA PARA CALCULAR INDICADORES TÉCNICOS\n",
        "!pip install pandas_ta\n",
        "!pip install yfinance\n",
        "!pip install wittgenstein\n",
        "!pip install pyRofex"
      ],
      "metadata": {
        "colab": {
          "base_uri": "https://localhost:8080/"
        },
        "id": "JE6mofFJhbdb",
        "outputId": "4975634d-5e30-487b-b011-03a5483534ac"
      },
      "execution_count": 5,
      "outputs": [
        {
          "output_type": "stream",
          "name": "stdout",
          "text": [
            "Requirement already satisfied: pandas_ta in /usr/local/lib/python3.10/dist-packages (0.3.14b0)\n",
            "Requirement already satisfied: pandas in /usr/local/lib/python3.10/dist-packages (from pandas_ta) (1.5.3)\n",
            "Requirement already satisfied: python-dateutil>=2.8.1 in /usr/local/lib/python3.10/dist-packages (from pandas->pandas_ta) (2.8.2)\n",
            "Requirement already satisfied: pytz>=2020.1 in /usr/local/lib/python3.10/dist-packages (from pandas->pandas_ta) (2023.4)\n",
            "Requirement already satisfied: numpy>=1.21.0 in /usr/local/lib/python3.10/dist-packages (from pandas->pandas_ta) (1.25.2)\n",
            "Requirement already satisfied: six>=1.5 in /usr/local/lib/python3.10/dist-packages (from python-dateutil>=2.8.1->pandas->pandas_ta) (1.16.0)\n",
            "Requirement already satisfied: yfinance in /usr/local/lib/python3.10/dist-packages (0.2.37)\n",
            "Requirement already satisfied: pandas>=1.3.0 in /usr/local/lib/python3.10/dist-packages (from yfinance) (1.5.3)\n",
            "Requirement already satisfied: numpy>=1.16.5 in /usr/local/lib/python3.10/dist-packages (from yfinance) (1.25.2)\n",
            "Requirement already satisfied: requests>=2.31 in /usr/local/lib/python3.10/dist-packages (from yfinance) (2.31.0)\n",
            "Requirement already satisfied: multitasking>=0.0.7 in /usr/local/lib/python3.10/dist-packages (from yfinance) (0.0.11)\n",
            "Requirement already satisfied: lxml>=4.9.1 in /usr/local/lib/python3.10/dist-packages (from yfinance) (4.9.4)\n",
            "Requirement already satisfied: appdirs>=1.4.4 in /usr/local/lib/python3.10/dist-packages (from yfinance) (1.4.4)\n",
            "Requirement already satisfied: pytz>=2022.5 in /usr/local/lib/python3.10/dist-packages (from yfinance) (2023.4)\n",
            "Requirement already satisfied: frozendict>=2.3.4 in /usr/local/lib/python3.10/dist-packages (from yfinance) (2.4.0)\n",
            "Requirement already satisfied: peewee>=3.16.2 in /usr/local/lib/python3.10/dist-packages (from yfinance) (3.17.1)\n",
            "Requirement already satisfied: beautifulsoup4>=4.11.1 in /usr/local/lib/python3.10/dist-packages (from yfinance) (4.12.3)\n",
            "Requirement already satisfied: html5lib>=1.1 in /usr/local/lib/python3.10/dist-packages (from yfinance) (1.1)\n",
            "Requirement already satisfied: soupsieve>1.2 in /usr/local/lib/python3.10/dist-packages (from beautifulsoup4>=4.11.1->yfinance) (2.5)\n",
            "Requirement already satisfied: six>=1.9 in /usr/local/lib/python3.10/dist-packages (from html5lib>=1.1->yfinance) (1.16.0)\n",
            "Requirement already satisfied: webencodings in /usr/local/lib/python3.10/dist-packages (from html5lib>=1.1->yfinance) (0.5.1)\n",
            "Requirement already satisfied: python-dateutil>=2.8.1 in /usr/local/lib/python3.10/dist-packages (from pandas>=1.3.0->yfinance) (2.8.2)\n",
            "Requirement already satisfied: charset-normalizer<4,>=2 in /usr/local/lib/python3.10/dist-packages (from requests>=2.31->yfinance) (3.3.2)\n",
            "Requirement already satisfied: idna<4,>=2.5 in /usr/local/lib/python3.10/dist-packages (from requests>=2.31->yfinance) (3.6)\n",
            "Requirement already satisfied: urllib3<3,>=1.21.1 in /usr/local/lib/python3.10/dist-packages (from requests>=2.31->yfinance) (2.0.7)\n",
            "Requirement already satisfied: certifi>=2017.4.17 in /usr/local/lib/python3.10/dist-packages (from requests>=2.31->yfinance) (2024.2.2)\n",
            "Requirement already satisfied: wittgenstein in /usr/local/lib/python3.10/dist-packages (0.3.4)\n",
            "Requirement already satisfied: pandas in /usr/local/lib/python3.10/dist-packages (from wittgenstein) (1.5.3)\n",
            "Requirement already satisfied: numpy in /usr/local/lib/python3.10/dist-packages (from wittgenstein) (1.25.2)\n",
            "Requirement already satisfied: python-dateutil>=2.8.1 in /usr/local/lib/python3.10/dist-packages (from pandas->wittgenstein) (2.8.2)\n",
            "Requirement already satisfied: pytz>=2020.1 in /usr/local/lib/python3.10/dist-packages (from pandas->wittgenstein) (2023.4)\n",
            "Requirement already satisfied: six>=1.5 in /usr/local/lib/python3.10/dist-packages (from python-dateutil>=2.8.1->pandas->wittgenstein) (1.16.0)\n",
            "Requirement already satisfied: pyRofex in /usr/local/lib/python3.10/dist-packages (0.5.0)\n",
            "Requirement already satisfied: requests>=2.20.0 in /usr/local/lib/python3.10/dist-packages (from pyRofex) (2.31.0)\n",
            "Requirement already satisfied: simplejson>=3.10.0 in /usr/local/lib/python3.10/dist-packages (from pyRofex) (3.19.2)\n",
            "Requirement already satisfied: enum34>=1.1.6 in /usr/local/lib/python3.10/dist-packages (from pyRofex) (1.1.10)\n",
            "Requirement already satisfied: websocket-client>=1.6.4 in /usr/local/lib/python3.10/dist-packages (from pyRofex) (1.7.0)\n",
            "Requirement already satisfied: charset-normalizer<4,>=2 in /usr/local/lib/python3.10/dist-packages (from requests>=2.20.0->pyRofex) (3.3.2)\n",
            "Requirement already satisfied: idna<4,>=2.5 in /usr/local/lib/python3.10/dist-packages (from requests>=2.20.0->pyRofex) (3.6)\n",
            "Requirement already satisfied: urllib3<3,>=1.21.1 in /usr/local/lib/python3.10/dist-packages (from requests>=2.20.0->pyRofex) (2.0.7)\n",
            "Requirement already satisfied: certifi>=2017.4.17 in /usr/local/lib/python3.10/dist-packages (from requests>=2.20.0->pyRofex) (2024.2.2)\n"
          ]
        }
      ]
    },
    {
      "cell_type": "code",
      "source": [
        "#IMPORTACIÓN DE LIBRERÍAS\n",
        "import pandas_ta as ta\n",
        "import pandas as pd\n",
        "import gdown\n",
        "import numpy as np\n",
        "import matplotlib.pyplot as plt\n",
        "from sklearn.cluster import KMeans\n",
        "from datetime import date\n",
        "from scipy.stats import ks_2samp\n",
        "import warnings\n",
        "import yfinance as yf\n",
        "import pyRofex\n",
        "import time\n",
        "warnings.filterwarnings('ignore')"
      ],
      "metadata": {
        "id": "elahkknViHJD"
      },
      "execution_count": 99,
      "outputs": []
    },
    {
      "cell_type": "markdown",
      "source": [
        "##FUNCIONES"
      ],
      "metadata": {
        "id": "D5oPZwO-jy76"
      }
    },
    {
      "cell_type": "code",
      "source": [
        "#FUNCIÓN PARA CALCULAR WILLIAMS de yaju\n",
        "\n",
        "def calculate_williams_ya(data):\n",
        "  \"\"\"\n",
        "  Calcula Williams %R para un rango de parámetros para los datos de precios de un activo específico.\n",
        "\n",
        "  Args:\n",
        "    data (pandas.DataFrame): Datos históricos del activo.\n",
        "\n",
        "  Returns:\n",
        "    pandas.DataFrame: Un DataFrame que contiene los indicadores calculados.\n",
        "  \"\"\"\n",
        "#Open         High          Low        Close    Adj Close  \\\n",
        "  #Renombrar las columnas\n",
        "  #data.columns = [\"Date\", \"Time\", \"Open\", \"High\", \"Low\", \"Close\", \"Volume\"]\n",
        "  #print(\"columnas\")\n",
        "  data.columns = [\"Open\", \"High\", \"Low\", \"Close\", \"AjClose\", \"Volume\"]\n",
        "  #print(\"columnas arregladas\")\n",
        "\n",
        "  #Establecer la fecha como índice\n",
        "  #data = data.set_index(\"Date\")\n",
        "  #Eliminar columnas innecesarias\n",
        "  #print(\"vola vol\")\n",
        "  data = data.drop([\"Volume\"], axis=1)\n",
        "  #print(\"vola clos\")\n",
        "  data = data.drop([\"AjClose\"], axis=1)\n",
        "  #print(\"vola volo\")\n",
        "  #Extraer columnas necesarias para el cálculo de indicadores\n",
        "  close = data[\"Close\"]\n",
        "  high = data[\"High\"]\n",
        "  low = data[\"Low\"]\n",
        "\n",
        "  #Crear de listas para guardar el nombre de los indicadores y los valores\n",
        "  indicators = []\n",
        "  columns = []\n",
        "\n",
        "  #Establecer rango de valores usados como parámetro para el cálculo de los indicadores\n",
        "  periods = list(range(5,100))\n",
        "\n",
        "  #WILLR - Williams' %R\n",
        "  for n in periods:\n",
        "    name = \"WILLR\" + str(n)\n",
        "    indicators.append(ta.willr(high, low, close, n))\n",
        "    columns.append(name)\n",
        "\n",
        "  #Crear dataframe con todos los indicadores calculados\n",
        "  df = pd.concat(indicators, axis=1)\n",
        "  df.columns = columns\n",
        "  df.index = data.index\n",
        "\n",
        "  #Calcular el retorno a un día vista\n",
        "  df[\"Open\"] = round(data[\"Open\"],2)\n",
        "  df[\"Close\"] = round(data[\"Close\"],2)\n",
        "  df[\"Return\"] = round(df[\"Open\"].pct_change().shift(-1),4)\n",
        "  # Supongamos que tienes un DataFrame llamado \"df\" con las fechas en el índice y el precio de cierre en una columna llamada \"Close\"\n",
        "  # Primero, calcula la diferencia entre el precio de cierre de un día y el precio de cierre del día anterior\n",
        "  df['Price_Diff'] = df['Close'].diff()\n",
        "\n",
        "# Luego, asigna 1 si el precio actual es mayor o igual que el del día anterior, y -1 si es menor\n",
        "  #df['Sentido'] = df['Price_Diff'].apply(lambda x: 1 if x >= 0 else -1)\n",
        "  df = df.drop(\"Open\",  axis=1)\n",
        "  df = df.drop(\"Price_Diff\",  axis=1)\n",
        "\n",
        "  #Eliminar las filas con valores faltantes\n",
        "  #df = df.dropna()\n",
        "\n",
        "  return df"
      ],
      "metadata": {
        "id": "Mg6QZ8T5B8EJ"
      },
      "execution_count": 96,
      "outputs": []
    },
    {
      "cell_type": "code",
      "source": [
        "def split(data, numero_barras):\n",
        "    \"\"\"\n",
        "    Divide los datos en conjuntos de entrenamiento y forward, dejando las últimas dos filas en forward.\n",
        "\n",
        "    Args:\n",
        "      data (pandas.DataFrame): DataFrame que contiene los datos a dividir.\n",
        "\n",
        "    Returns:\n",
        "      tuple: Una tupla que contiene los siguientes conjuntos de datos:\n",
        "        - train (pandas.DataFrame): Conjunto de entrenamiento.\n",
        "        - forward (pandas.DataFrame): Conjunto forward.\n",
        "    \"\"\"\n",
        "    # Dejar las últimas dos filas en forward\n",
        "    forward = data.iloc[-numero_barras:, :]\n",
        "\n",
        "    # Resto de las filas en train\n",
        "    train = data.iloc[:-numero_barras, :]\n",
        "\n",
        "    return train, forward\n"
      ],
      "metadata": {
        "id": "e9GVttfb9xvn"
      },
      "execution_count": 8,
      "outputs": []
    },
    {
      "cell_type": "code",
      "source": [],
      "metadata": {
        "id": "q4vAPk9aAgfg"
      },
      "execution_count": null,
      "outputs": []
    },
    {
      "cell_type": "markdown",
      "source": [
        "#DATASET"
      ],
      "metadata": {
        "id": "qO2UDUmooc99"
      }
    },
    {
      "cell_type": "code",
      "source": [
        "\n",
        "papeles = [\"ALUA.BA\", \"BBAR.BA\", \"BMA.BA\", \"BYMA.BA\", \"CEPU.BA\", \"COME.BA\", \"CRES.BA\", \"CVH.BA\", \"EDN.BA\",\n",
        "\"GGAL.BA\", \"LOMA.BA\", \"MIRG.BA\", \"PAMP.BA\", \"SUPV.BA\", \"TECO2.BA\", \"TGNO4.BA\", \"TGSU2.BA\", \"TRAN.BA\",\n",
        "\"TXAR.BA\", \"VALO.BA\", \"YPFD.BA\"]\n",
        "\n",
        "symbol = \"EDN.BA\"\n",
        "\n",
        "start_date=\"2010-01-01\"\n",
        "\n",
        "end_date=\"2024-03-31\"\n",
        "\n",
        "data =yf.download(symbol, start=start_date, end=end_date)\n",
        "# Convertir los datos en un DataFrame de pandas\n",
        "data_df = pd.DataFrame(data)\n",
        "\n",
        "#data_df.columns = [\"Date\", \"Open\", \"High\", \"Low\", \"Close\", \"Volume\"]\n",
        "\n",
        "#data_df.reindex(columns=['fecha', 'especie', 'apertura', 'maximo', 'minimo', 'cierre', 'volumen', 'timestamp'])\n",
        "\n",
        "print(\"                mis datos\")\n",
        "#print(data_df)\n",
        "print(\"findatos\")\n",
        "#msft = yf.Ticker(\"COME.BA\")\n",
        "\n",
        "\n",
        "\n",
        "\n",
        "# get historical market data\n",
        "#hist = msft.history(period=\"1mo\")\n",
        "\n"
      ],
      "metadata": {
        "colab": {
          "base_uri": "https://localhost:8080/"
        },
        "id": "-Aj4O0y1sM1f",
        "outputId": "ae1e7c5e-01b3-47fb-9ac4-2d2e81aa45fa"
      },
      "execution_count": 105,
      "outputs": [
        {
          "output_type": "stream",
          "name": "stderr",
          "text": [
            "\r[*********************100%%**********************]  1 of 1 completed"
          ]
        },
        {
          "output_type": "stream",
          "name": "stdout",
          "text": [
            "                mis datos\n",
            "findatos\n"
          ]
        },
        {
          "output_type": "stream",
          "name": "stderr",
          "text": [
            "\n"
          ]
        }
      ]
    },
    {
      "cell_type": "code",
      "source": [
        "#Calcular indicadores\n",
        "data = calculate_williams_ya(data_df)\n",
        "#print(data)\n",
        "print(\"tatime\")\n",
        "data_trimmed = data.iloc[:-2]\n",
        "#print(data_trimmed)\n",
        "\n",
        "#Realizar particiones\n",
        "train, forward = split(data, 100)\n",
        "\n",
        "train= train.dropna()\n",
        "train.head(3)\n",
        "\n",
        "print(\"fowar\")\n",
        "#forward"
      ],
      "metadata": {
        "colab": {
          "base_uri": "https://localhost:8080/"
        },
        "id": "vBdlQF8esXE-",
        "outputId": "56163f86-697a-4152-c36c-182389d9dedd"
      },
      "execution_count": 106,
      "outputs": [
        {
          "output_type": "stream",
          "name": "stdout",
          "text": [
            "tatime\n",
            "fowar\n"
          ]
        }
      ]
    },
    {
      "cell_type": "markdown",
      "source": [
        "#CLUSTERING"
      ],
      "metadata": {
        "id": "7LALYjUo_g8G"
      }
    },
    {
      "cell_type": "code",
      "source": [
        "#GENERACIÓN DE CLÚSTERS\n",
        "\n",
        "#Preparar datos de entrenamiento\n",
        "#print(X_train.head(5))\n",
        "\n",
        "X_train = train.iloc[:,:-2]\n",
        "\n",
        "#print(X_train.head(5))\n",
        "\n",
        "#Preparar datos forward\n",
        "X_forward = forward.iloc[:,:-2]\n",
        "\n",
        "#Aplicar K-Means\n",
        "kmeans = KMeans(n_clusters=2).fit(X_train)\n",
        "predictions = kmeans.predict(X_forward)\n",
        "\n",
        "#Generar predicciones en forward\n",
        "df_forward = pd.DataFrame(forward[\"Return\"])\n",
        "#df_forward[\"Sentido\"] = forward[\"Sentido\"]\n",
        "df_forward[\"Pred\"] = predictions\n",
        "df_forward[\"Close\"] = forward[\"Close\"]\n",
        "df_forward.tail(108)"
      ],
      "metadata": {
        "colab": {
          "base_uri": "https://localhost:8080/",
          "height": 455
        },
        "id": "AY-bWA10_go0",
        "outputId": "3a2ce5c9-798d-4faf-f3f4-15d62a9053d4"
      },
      "execution_count": 107,
      "outputs": [
        {
          "output_type": "execute_result",
          "data": {
            "text/plain": [
              "            Return  Pred    Close\n",
              "Date                             \n",
              "2023-10-25  0.0194     1   551.15\n",
              "2023-10-26 -0.0372     1   548.65\n",
              "2023-10-27 -0.0283     0   514.60\n",
              "2023-10-30 -0.1068     0   460.00\n",
              "2023-10-31 -0.0391     0   441.50\n",
              "...            ...   ...      ...\n",
              "2024-03-15  0.0376     0   814.45\n",
              "2024-03-18  0.1220     0   915.45\n",
              "2024-03-19  0.0043     0   923.50\n",
              "2024-03-20  0.1129     0  1008.35\n",
              "2024-03-21     NaN     1  1018.50\n",
              "\n",
              "[100 rows x 3 columns]"
            ],
            "text/html": [
              "\n",
              "  <div id=\"df-8533e107-01c8-4dfa-97cb-da85a029f79f\" class=\"colab-df-container\">\n",
              "    <div>\n",
              "<style scoped>\n",
              "    .dataframe tbody tr th:only-of-type {\n",
              "        vertical-align: middle;\n",
              "    }\n",
              "\n",
              "    .dataframe tbody tr th {\n",
              "        vertical-align: top;\n",
              "    }\n",
              "\n",
              "    .dataframe thead th {\n",
              "        text-align: right;\n",
              "    }\n",
              "</style>\n",
              "<table border=\"1\" class=\"dataframe\">\n",
              "  <thead>\n",
              "    <tr style=\"text-align: right;\">\n",
              "      <th></th>\n",
              "      <th>Return</th>\n",
              "      <th>Pred</th>\n",
              "      <th>Close</th>\n",
              "    </tr>\n",
              "    <tr>\n",
              "      <th>Date</th>\n",
              "      <th></th>\n",
              "      <th></th>\n",
              "      <th></th>\n",
              "    </tr>\n",
              "  </thead>\n",
              "  <tbody>\n",
              "    <tr>\n",
              "      <th>2023-10-25</th>\n",
              "      <td>0.0194</td>\n",
              "      <td>1</td>\n",
              "      <td>551.15</td>\n",
              "    </tr>\n",
              "    <tr>\n",
              "      <th>2023-10-26</th>\n",
              "      <td>-0.0372</td>\n",
              "      <td>1</td>\n",
              "      <td>548.65</td>\n",
              "    </tr>\n",
              "    <tr>\n",
              "      <th>2023-10-27</th>\n",
              "      <td>-0.0283</td>\n",
              "      <td>0</td>\n",
              "      <td>514.60</td>\n",
              "    </tr>\n",
              "    <tr>\n",
              "      <th>2023-10-30</th>\n",
              "      <td>-0.1068</td>\n",
              "      <td>0</td>\n",
              "      <td>460.00</td>\n",
              "    </tr>\n",
              "    <tr>\n",
              "      <th>2023-10-31</th>\n",
              "      <td>-0.0391</td>\n",
              "      <td>0</td>\n",
              "      <td>441.50</td>\n",
              "    </tr>\n",
              "    <tr>\n",
              "      <th>...</th>\n",
              "      <td>...</td>\n",
              "      <td>...</td>\n",
              "      <td>...</td>\n",
              "    </tr>\n",
              "    <tr>\n",
              "      <th>2024-03-15</th>\n",
              "      <td>0.0376</td>\n",
              "      <td>0</td>\n",
              "      <td>814.45</td>\n",
              "    </tr>\n",
              "    <tr>\n",
              "      <th>2024-03-18</th>\n",
              "      <td>0.1220</td>\n",
              "      <td>0</td>\n",
              "      <td>915.45</td>\n",
              "    </tr>\n",
              "    <tr>\n",
              "      <th>2024-03-19</th>\n",
              "      <td>0.0043</td>\n",
              "      <td>0</td>\n",
              "      <td>923.50</td>\n",
              "    </tr>\n",
              "    <tr>\n",
              "      <th>2024-03-20</th>\n",
              "      <td>0.1129</td>\n",
              "      <td>0</td>\n",
              "      <td>1008.35</td>\n",
              "    </tr>\n",
              "    <tr>\n",
              "      <th>2024-03-21</th>\n",
              "      <td>NaN</td>\n",
              "      <td>1</td>\n",
              "      <td>1018.50</td>\n",
              "    </tr>\n",
              "  </tbody>\n",
              "</table>\n",
              "<p>100 rows × 3 columns</p>\n",
              "</div>\n",
              "    <div class=\"colab-df-buttons\">\n",
              "\n",
              "  <div class=\"colab-df-container\">\n",
              "    <button class=\"colab-df-convert\" onclick=\"convertToInteractive('df-8533e107-01c8-4dfa-97cb-da85a029f79f')\"\n",
              "            title=\"Convert this dataframe to an interactive table.\"\n",
              "            style=\"display:none;\">\n",
              "\n",
              "  <svg xmlns=\"http://www.w3.org/2000/svg\" height=\"24px\" viewBox=\"0 -960 960 960\">\n",
              "    <path d=\"M120-120v-720h720v720H120Zm60-500h600v-160H180v160Zm220 220h160v-160H400v160Zm0 220h160v-160H400v160ZM180-400h160v-160H180v160Zm440 0h160v-160H620v160ZM180-180h160v-160H180v160Zm440 0h160v-160H620v160Z\"/>\n",
              "  </svg>\n",
              "    </button>\n",
              "\n",
              "  <style>\n",
              "    .colab-df-container {\n",
              "      display:flex;\n",
              "      gap: 12px;\n",
              "    }\n",
              "\n",
              "    .colab-df-convert {\n",
              "      background-color: #E8F0FE;\n",
              "      border: none;\n",
              "      border-radius: 50%;\n",
              "      cursor: pointer;\n",
              "      display: none;\n",
              "      fill: #1967D2;\n",
              "      height: 32px;\n",
              "      padding: 0 0 0 0;\n",
              "      width: 32px;\n",
              "    }\n",
              "\n",
              "    .colab-df-convert:hover {\n",
              "      background-color: #E2EBFA;\n",
              "      box-shadow: 0px 1px 2px rgba(60, 64, 67, 0.3), 0px 1px 3px 1px rgba(60, 64, 67, 0.15);\n",
              "      fill: #174EA6;\n",
              "    }\n",
              "\n",
              "    .colab-df-buttons div {\n",
              "      margin-bottom: 4px;\n",
              "    }\n",
              "\n",
              "    [theme=dark] .colab-df-convert {\n",
              "      background-color: #3B4455;\n",
              "      fill: #D2E3FC;\n",
              "    }\n",
              "\n",
              "    [theme=dark] .colab-df-convert:hover {\n",
              "      background-color: #434B5C;\n",
              "      box-shadow: 0px 1px 3px 1px rgba(0, 0, 0, 0.15);\n",
              "      filter: drop-shadow(0px 1px 2px rgba(0, 0, 0, 0.3));\n",
              "      fill: #FFFFFF;\n",
              "    }\n",
              "  </style>\n",
              "\n",
              "    <script>\n",
              "      const buttonEl =\n",
              "        document.querySelector('#df-8533e107-01c8-4dfa-97cb-da85a029f79f button.colab-df-convert');\n",
              "      buttonEl.style.display =\n",
              "        google.colab.kernel.accessAllowed ? 'block' : 'none';\n",
              "\n",
              "      async function convertToInteractive(key) {\n",
              "        const element = document.querySelector('#df-8533e107-01c8-4dfa-97cb-da85a029f79f');\n",
              "        const dataTable =\n",
              "          await google.colab.kernel.invokeFunction('convertToInteractive',\n",
              "                                                    [key], {});\n",
              "        if (!dataTable) return;\n",
              "\n",
              "        const docLinkHtml = 'Like what you see? Visit the ' +\n",
              "          '<a target=\"_blank\" href=https://colab.research.google.com/notebooks/data_table.ipynb>data table notebook</a>'\n",
              "          + ' to learn more about interactive tables.';\n",
              "        element.innerHTML = '';\n",
              "        dataTable['output_type'] = 'display_data';\n",
              "        await google.colab.output.renderOutput(dataTable, element);\n",
              "        const docLink = document.createElement('div');\n",
              "        docLink.innerHTML = docLinkHtml;\n",
              "        element.appendChild(docLink);\n",
              "      }\n",
              "    </script>\n",
              "  </div>\n",
              "\n",
              "\n",
              "<div id=\"df-ce191a27-f3f8-4491-9c54-3afd78b28650\">\n",
              "  <button class=\"colab-df-quickchart\" onclick=\"quickchart('df-ce191a27-f3f8-4491-9c54-3afd78b28650')\"\n",
              "            title=\"Suggest charts\"\n",
              "            style=\"display:none;\">\n",
              "\n",
              "<svg xmlns=\"http://www.w3.org/2000/svg\" height=\"24px\"viewBox=\"0 0 24 24\"\n",
              "     width=\"24px\">\n",
              "    <g>\n",
              "        <path d=\"M19 3H5c-1.1 0-2 .9-2 2v14c0 1.1.9 2 2 2h14c1.1 0 2-.9 2-2V5c0-1.1-.9-2-2-2zM9 17H7v-7h2v7zm4 0h-2V7h2v10zm4 0h-2v-4h2v4z\"/>\n",
              "    </g>\n",
              "</svg>\n",
              "  </button>\n",
              "\n",
              "<style>\n",
              "  .colab-df-quickchart {\n",
              "      --bg-color: #E8F0FE;\n",
              "      --fill-color: #1967D2;\n",
              "      --hover-bg-color: #E2EBFA;\n",
              "      --hover-fill-color: #174EA6;\n",
              "      --disabled-fill-color: #AAA;\n",
              "      --disabled-bg-color: #DDD;\n",
              "  }\n",
              "\n",
              "  [theme=dark] .colab-df-quickchart {\n",
              "      --bg-color: #3B4455;\n",
              "      --fill-color: #D2E3FC;\n",
              "      --hover-bg-color: #434B5C;\n",
              "      --hover-fill-color: #FFFFFF;\n",
              "      --disabled-bg-color: #3B4455;\n",
              "      --disabled-fill-color: #666;\n",
              "  }\n",
              "\n",
              "  .colab-df-quickchart {\n",
              "    background-color: var(--bg-color);\n",
              "    border: none;\n",
              "    border-radius: 50%;\n",
              "    cursor: pointer;\n",
              "    display: none;\n",
              "    fill: var(--fill-color);\n",
              "    height: 32px;\n",
              "    padding: 0;\n",
              "    width: 32px;\n",
              "  }\n",
              "\n",
              "  .colab-df-quickchart:hover {\n",
              "    background-color: var(--hover-bg-color);\n",
              "    box-shadow: 0 1px 2px rgba(60, 64, 67, 0.3), 0 1px 3px 1px rgba(60, 64, 67, 0.15);\n",
              "    fill: var(--button-hover-fill-color);\n",
              "  }\n",
              "\n",
              "  .colab-df-quickchart-complete:disabled,\n",
              "  .colab-df-quickchart-complete:disabled:hover {\n",
              "    background-color: var(--disabled-bg-color);\n",
              "    fill: var(--disabled-fill-color);\n",
              "    box-shadow: none;\n",
              "  }\n",
              "\n",
              "  .colab-df-spinner {\n",
              "    border: 2px solid var(--fill-color);\n",
              "    border-color: transparent;\n",
              "    border-bottom-color: var(--fill-color);\n",
              "    animation:\n",
              "      spin 1s steps(1) infinite;\n",
              "  }\n",
              "\n",
              "  @keyframes spin {\n",
              "    0% {\n",
              "      border-color: transparent;\n",
              "      border-bottom-color: var(--fill-color);\n",
              "      border-left-color: var(--fill-color);\n",
              "    }\n",
              "    20% {\n",
              "      border-color: transparent;\n",
              "      border-left-color: var(--fill-color);\n",
              "      border-top-color: var(--fill-color);\n",
              "    }\n",
              "    30% {\n",
              "      border-color: transparent;\n",
              "      border-left-color: var(--fill-color);\n",
              "      border-top-color: var(--fill-color);\n",
              "      border-right-color: var(--fill-color);\n",
              "    }\n",
              "    40% {\n",
              "      border-color: transparent;\n",
              "      border-right-color: var(--fill-color);\n",
              "      border-top-color: var(--fill-color);\n",
              "    }\n",
              "    60% {\n",
              "      border-color: transparent;\n",
              "      border-right-color: var(--fill-color);\n",
              "    }\n",
              "    80% {\n",
              "      border-color: transparent;\n",
              "      border-right-color: var(--fill-color);\n",
              "      border-bottom-color: var(--fill-color);\n",
              "    }\n",
              "    90% {\n",
              "      border-color: transparent;\n",
              "      border-bottom-color: var(--fill-color);\n",
              "    }\n",
              "  }\n",
              "</style>\n",
              "\n",
              "  <script>\n",
              "    async function quickchart(key) {\n",
              "      const quickchartButtonEl =\n",
              "        document.querySelector('#' + key + ' button');\n",
              "      quickchartButtonEl.disabled = true;  // To prevent multiple clicks.\n",
              "      quickchartButtonEl.classList.add('colab-df-spinner');\n",
              "      try {\n",
              "        const charts = await google.colab.kernel.invokeFunction(\n",
              "            'suggestCharts', [key], {});\n",
              "      } catch (error) {\n",
              "        console.error('Error during call to suggestCharts:', error);\n",
              "      }\n",
              "      quickchartButtonEl.classList.remove('colab-df-spinner');\n",
              "      quickchartButtonEl.classList.add('colab-df-quickchart-complete');\n",
              "    }\n",
              "    (() => {\n",
              "      let quickchartButtonEl =\n",
              "        document.querySelector('#df-ce191a27-f3f8-4491-9c54-3afd78b28650 button');\n",
              "      quickchartButtonEl.style.display =\n",
              "        google.colab.kernel.accessAllowed ? 'block' : 'none';\n",
              "    })();\n",
              "  </script>\n",
              "</div>\n",
              "\n",
              "    </div>\n",
              "  </div>\n"
            ],
            "application/vnd.google.colaboratory.intrinsic+json": {
              "type": "dataframe",
              "summary": "{\n  \"name\": \"df_forward\",\n  \"rows\": 100,\n  \"fields\": [\n    {\n      \"column\": \"Date\",\n      \"properties\": {\n        \"dtype\": \"date\",\n        \"min\": \"2023-10-25 00:00:00\",\n        \"max\": \"2024-03-21 00:00:00\",\n        \"num_unique_values\": 100,\n        \"samples\": [\n          \"2024-02-28 00:00:00\",\n          \"2024-01-15 00:00:00\",\n          \"2024-02-07 00:00:00\"\n        ],\n        \"semantic_type\": \"\",\n        \"description\": \"\"\n      }\n    },\n    {\n      \"column\": \"Return\",\n      \"properties\": {\n        \"dtype\": \"number\",\n        \"std\": 0.06426195883032809,\n        \"min\": -0.1529,\n        \"max\": 0.2157,\n        \"num_unique_values\": 96,\n        \"samples\": [\n          -0.0915,\n          -0.0174,\n          0.047\n        ],\n        \"semantic_type\": \"\",\n        \"description\": \"\"\n      }\n    },\n    {\n      \"column\": \"Pred\",\n      \"properties\": {\n        \"dtype\": \"int32\",\n        \"num_unique_values\": 2,\n        \"samples\": [\n          0,\n          1\n        ],\n        \"semantic_type\": \"\",\n        \"description\": \"\"\n      }\n    },\n    {\n      \"column\": \"Close\",\n      \"properties\": {\n        \"dtype\": \"number\",\n        \"std\": 246.43957012467035,\n        \"min\": 436.3,\n        \"max\": 1329.7,\n        \"num_unique_values\": 99,\n        \"samples\": [\n          1250.35,\n          892.75\n        ],\n        \"semantic_type\": \"\",\n        \"description\": \"\"\n      }\n    }\n  ]\n}"
            }
          },
          "metadata": {},
          "execution_count": 107
        }
      ]
    },
    {
      "cell_type": "code",
      "source": [
        "#COMPROBACIÓN DE CLÚSTERS\n",
        "\n",
        "#Calcular retornos medios del clúster con la etiqueta 0\n",
        "ave_zero = np.mean(df_forward[df_forward[\"Pred\"]==0][\"Return\"])\n",
        "print(\"Retorno medio de la etiqueta 0:\", round(ave_zero, 4))\n",
        "\n",
        "#Calcular retornos medios del clúster con la etiqueta 1\n",
        "ave_one = np.mean(df_forward[df_forward[\"Pred\"]==1][\"Return\"])\n",
        "print(\"Retorno medio de la etiqueta 1:\", round(ave_one, 4))\n",
        "\n",
        "#Calcular retornos medios del clúster con la etiqueta 2\n",
        "ave_dos = np.mean(df_forward[df_forward[\"Pred\"]==2][\"Return\"])\n",
        "print(\"Retorno medio de la etiqueta 2:\", round(ave_dos, 4))"
      ],
      "metadata": {
        "colab": {
          "base_uri": "https://localhost:8080/"
        },
        "id": "1OmJny7DDhyo",
        "outputId": "acbff3b9-d6ab-4b0d-943f-3b564911aa52"
      },
      "execution_count": 108,
      "outputs": [
        {
          "output_type": "stream",
          "name": "stdout",
          "text": [
            "Retorno medio de la etiqueta 0: -0.0061\n",
            "Retorno medio de la etiqueta 1: 0.0198\n",
            "Retorno medio de la etiqueta 2: nan\n"
          ]
        }
      ]
    },
    {
      "cell_type": "code",
      "source": [
        "#RENOMBRADO DE LAS ETIQUETAS OTORGADAS POR K-MEANS EN 1 O -1\n",
        "\n",
        "#Renombrar etiquetas\n",
        "if ave_zero > ave_one:\n",
        "  df_forward[\"Pred\"] = np.where(df_forward[\"Pred\"]==0, 1, -1)\n",
        "else:\n",
        "  df_forward[\"Pred\"] = np.where(df_forward[\"Pred\"]==0, -1, 1)"
      ],
      "metadata": {
        "id": "WLQ81o05EVA-"
      },
      "execution_count": 109,
      "outputs": []
    },
    {
      "cell_type": "code",
      "source": [
        "#FORMATO DE FECHAS\n",
        "dates = pd.to_datetime(df_forward.index)\n",
        "df_forward.set_index(dates, inplace=True)\n",
        "\n",
        "print(df_forward)\n",
        "\n",
        "cabeza= df_forward.head(400)\n",
        "cola = df_forward.tail(300)\n",
        "\n",
        "cola.tail(10)"
      ],
      "metadata": {
        "id": "Pv-hMkgQW3i-",
        "colab": {
          "base_uri": "https://localhost:8080/",
          "height": 655
        },
        "outputId": "eb281819-089a-4591-8470-7ae22892905e"
      },
      "execution_count": 110,
      "outputs": [
        {
          "output_type": "stream",
          "name": "stdout",
          "text": [
            "            Return  Pred    Close\n",
            "Date                             \n",
            "2023-10-25  0.0194     1   551.15\n",
            "2023-10-26 -0.0372     1   548.65\n",
            "2023-10-27 -0.0283    -1   514.60\n",
            "2023-10-30 -0.1068    -1   460.00\n",
            "2023-10-31 -0.0391    -1   441.50\n",
            "...            ...   ...      ...\n",
            "2024-03-15  0.0376    -1   814.45\n",
            "2024-03-18  0.1220    -1   915.45\n",
            "2024-03-19  0.0043    -1   923.50\n",
            "2024-03-20  0.1129    -1  1008.35\n",
            "2024-03-21     NaN     1  1018.50\n",
            "\n",
            "[100 rows x 3 columns]\n"
          ]
        },
        {
          "output_type": "execute_result",
          "data": {
            "text/plain": [
              "            Return  Pred    Close\n",
              "Date                             \n",
              "2024-03-08  0.0703    -1   839.75\n",
              "2024-03-11 -0.0674    -1   801.30\n",
              "2024-03-12  0.1222    -1   881.10\n",
              "2024-03-13 -0.0789    -1   819.25\n",
              "2024-03-14 -0.0467    -1   793.05\n",
              "2024-03-15  0.0376    -1   814.45\n",
              "2024-03-18  0.1220    -1   915.45\n",
              "2024-03-19  0.0043    -1   923.50\n",
              "2024-03-20  0.1129    -1  1008.35\n",
              "2024-03-21     NaN     1  1018.50"
            ],
            "text/html": [
              "\n",
              "  <div id=\"df-f7956130-9f1d-4842-ae04-a767fbf250b6\" class=\"colab-df-container\">\n",
              "    <div>\n",
              "<style scoped>\n",
              "    .dataframe tbody tr th:only-of-type {\n",
              "        vertical-align: middle;\n",
              "    }\n",
              "\n",
              "    .dataframe tbody tr th {\n",
              "        vertical-align: top;\n",
              "    }\n",
              "\n",
              "    .dataframe thead th {\n",
              "        text-align: right;\n",
              "    }\n",
              "</style>\n",
              "<table border=\"1\" class=\"dataframe\">\n",
              "  <thead>\n",
              "    <tr style=\"text-align: right;\">\n",
              "      <th></th>\n",
              "      <th>Return</th>\n",
              "      <th>Pred</th>\n",
              "      <th>Close</th>\n",
              "    </tr>\n",
              "    <tr>\n",
              "      <th>Date</th>\n",
              "      <th></th>\n",
              "      <th></th>\n",
              "      <th></th>\n",
              "    </tr>\n",
              "  </thead>\n",
              "  <tbody>\n",
              "    <tr>\n",
              "      <th>2024-03-08</th>\n",
              "      <td>0.0703</td>\n",
              "      <td>-1</td>\n",
              "      <td>839.75</td>\n",
              "    </tr>\n",
              "    <tr>\n",
              "      <th>2024-03-11</th>\n",
              "      <td>-0.0674</td>\n",
              "      <td>-1</td>\n",
              "      <td>801.30</td>\n",
              "    </tr>\n",
              "    <tr>\n",
              "      <th>2024-03-12</th>\n",
              "      <td>0.1222</td>\n",
              "      <td>-1</td>\n",
              "      <td>881.10</td>\n",
              "    </tr>\n",
              "    <tr>\n",
              "      <th>2024-03-13</th>\n",
              "      <td>-0.0789</td>\n",
              "      <td>-1</td>\n",
              "      <td>819.25</td>\n",
              "    </tr>\n",
              "    <tr>\n",
              "      <th>2024-03-14</th>\n",
              "      <td>-0.0467</td>\n",
              "      <td>-1</td>\n",
              "      <td>793.05</td>\n",
              "    </tr>\n",
              "    <tr>\n",
              "      <th>2024-03-15</th>\n",
              "      <td>0.0376</td>\n",
              "      <td>-1</td>\n",
              "      <td>814.45</td>\n",
              "    </tr>\n",
              "    <tr>\n",
              "      <th>2024-03-18</th>\n",
              "      <td>0.1220</td>\n",
              "      <td>-1</td>\n",
              "      <td>915.45</td>\n",
              "    </tr>\n",
              "    <tr>\n",
              "      <th>2024-03-19</th>\n",
              "      <td>0.0043</td>\n",
              "      <td>-1</td>\n",
              "      <td>923.50</td>\n",
              "    </tr>\n",
              "    <tr>\n",
              "      <th>2024-03-20</th>\n",
              "      <td>0.1129</td>\n",
              "      <td>-1</td>\n",
              "      <td>1008.35</td>\n",
              "    </tr>\n",
              "    <tr>\n",
              "      <th>2024-03-21</th>\n",
              "      <td>NaN</td>\n",
              "      <td>1</td>\n",
              "      <td>1018.50</td>\n",
              "    </tr>\n",
              "  </tbody>\n",
              "</table>\n",
              "</div>\n",
              "    <div class=\"colab-df-buttons\">\n",
              "\n",
              "  <div class=\"colab-df-container\">\n",
              "    <button class=\"colab-df-convert\" onclick=\"convertToInteractive('df-f7956130-9f1d-4842-ae04-a767fbf250b6')\"\n",
              "            title=\"Convert this dataframe to an interactive table.\"\n",
              "            style=\"display:none;\">\n",
              "\n",
              "  <svg xmlns=\"http://www.w3.org/2000/svg\" height=\"24px\" viewBox=\"0 -960 960 960\">\n",
              "    <path d=\"M120-120v-720h720v720H120Zm60-500h600v-160H180v160Zm220 220h160v-160H400v160Zm0 220h160v-160H400v160ZM180-400h160v-160H180v160Zm440 0h160v-160H620v160ZM180-180h160v-160H180v160Zm440 0h160v-160H620v160Z\"/>\n",
              "  </svg>\n",
              "    </button>\n",
              "\n",
              "  <style>\n",
              "    .colab-df-container {\n",
              "      display:flex;\n",
              "      gap: 12px;\n",
              "    }\n",
              "\n",
              "    .colab-df-convert {\n",
              "      background-color: #E8F0FE;\n",
              "      border: none;\n",
              "      border-radius: 50%;\n",
              "      cursor: pointer;\n",
              "      display: none;\n",
              "      fill: #1967D2;\n",
              "      height: 32px;\n",
              "      padding: 0 0 0 0;\n",
              "      width: 32px;\n",
              "    }\n",
              "\n",
              "    .colab-df-convert:hover {\n",
              "      background-color: #E2EBFA;\n",
              "      box-shadow: 0px 1px 2px rgba(60, 64, 67, 0.3), 0px 1px 3px 1px rgba(60, 64, 67, 0.15);\n",
              "      fill: #174EA6;\n",
              "    }\n",
              "\n",
              "    .colab-df-buttons div {\n",
              "      margin-bottom: 4px;\n",
              "    }\n",
              "\n",
              "    [theme=dark] .colab-df-convert {\n",
              "      background-color: #3B4455;\n",
              "      fill: #D2E3FC;\n",
              "    }\n",
              "\n",
              "    [theme=dark] .colab-df-convert:hover {\n",
              "      background-color: #434B5C;\n",
              "      box-shadow: 0px 1px 3px 1px rgba(0, 0, 0, 0.15);\n",
              "      filter: drop-shadow(0px 1px 2px rgba(0, 0, 0, 0.3));\n",
              "      fill: #FFFFFF;\n",
              "    }\n",
              "  </style>\n",
              "\n",
              "    <script>\n",
              "      const buttonEl =\n",
              "        document.querySelector('#df-f7956130-9f1d-4842-ae04-a767fbf250b6 button.colab-df-convert');\n",
              "      buttonEl.style.display =\n",
              "        google.colab.kernel.accessAllowed ? 'block' : 'none';\n",
              "\n",
              "      async function convertToInteractive(key) {\n",
              "        const element = document.querySelector('#df-f7956130-9f1d-4842-ae04-a767fbf250b6');\n",
              "        const dataTable =\n",
              "          await google.colab.kernel.invokeFunction('convertToInteractive',\n",
              "                                                    [key], {});\n",
              "        if (!dataTable) return;\n",
              "\n",
              "        const docLinkHtml = 'Like what you see? Visit the ' +\n",
              "          '<a target=\"_blank\" href=https://colab.research.google.com/notebooks/data_table.ipynb>data table notebook</a>'\n",
              "          + ' to learn more about interactive tables.';\n",
              "        element.innerHTML = '';\n",
              "        dataTable['output_type'] = 'display_data';\n",
              "        await google.colab.output.renderOutput(dataTable, element);\n",
              "        const docLink = document.createElement('div');\n",
              "        docLink.innerHTML = docLinkHtml;\n",
              "        element.appendChild(docLink);\n",
              "      }\n",
              "    </script>\n",
              "  </div>\n",
              "\n",
              "\n",
              "<div id=\"df-355b159e-ae67-4d1b-8440-35ce51b44a1e\">\n",
              "  <button class=\"colab-df-quickchart\" onclick=\"quickchart('df-355b159e-ae67-4d1b-8440-35ce51b44a1e')\"\n",
              "            title=\"Suggest charts\"\n",
              "            style=\"display:none;\">\n",
              "\n",
              "<svg xmlns=\"http://www.w3.org/2000/svg\" height=\"24px\"viewBox=\"0 0 24 24\"\n",
              "     width=\"24px\">\n",
              "    <g>\n",
              "        <path d=\"M19 3H5c-1.1 0-2 .9-2 2v14c0 1.1.9 2 2 2h14c1.1 0 2-.9 2-2V5c0-1.1-.9-2-2-2zM9 17H7v-7h2v7zm4 0h-2V7h2v10zm4 0h-2v-4h2v4z\"/>\n",
              "    </g>\n",
              "</svg>\n",
              "  </button>\n",
              "\n",
              "<style>\n",
              "  .colab-df-quickchart {\n",
              "      --bg-color: #E8F0FE;\n",
              "      --fill-color: #1967D2;\n",
              "      --hover-bg-color: #E2EBFA;\n",
              "      --hover-fill-color: #174EA6;\n",
              "      --disabled-fill-color: #AAA;\n",
              "      --disabled-bg-color: #DDD;\n",
              "  }\n",
              "\n",
              "  [theme=dark] .colab-df-quickchart {\n",
              "      --bg-color: #3B4455;\n",
              "      --fill-color: #D2E3FC;\n",
              "      --hover-bg-color: #434B5C;\n",
              "      --hover-fill-color: #FFFFFF;\n",
              "      --disabled-bg-color: #3B4455;\n",
              "      --disabled-fill-color: #666;\n",
              "  }\n",
              "\n",
              "  .colab-df-quickchart {\n",
              "    background-color: var(--bg-color);\n",
              "    border: none;\n",
              "    border-radius: 50%;\n",
              "    cursor: pointer;\n",
              "    display: none;\n",
              "    fill: var(--fill-color);\n",
              "    height: 32px;\n",
              "    padding: 0;\n",
              "    width: 32px;\n",
              "  }\n",
              "\n",
              "  .colab-df-quickchart:hover {\n",
              "    background-color: var(--hover-bg-color);\n",
              "    box-shadow: 0 1px 2px rgba(60, 64, 67, 0.3), 0 1px 3px 1px rgba(60, 64, 67, 0.15);\n",
              "    fill: var(--button-hover-fill-color);\n",
              "  }\n",
              "\n",
              "  .colab-df-quickchart-complete:disabled,\n",
              "  .colab-df-quickchart-complete:disabled:hover {\n",
              "    background-color: var(--disabled-bg-color);\n",
              "    fill: var(--disabled-fill-color);\n",
              "    box-shadow: none;\n",
              "  }\n",
              "\n",
              "  .colab-df-spinner {\n",
              "    border: 2px solid var(--fill-color);\n",
              "    border-color: transparent;\n",
              "    border-bottom-color: var(--fill-color);\n",
              "    animation:\n",
              "      spin 1s steps(1) infinite;\n",
              "  }\n",
              "\n",
              "  @keyframes spin {\n",
              "    0% {\n",
              "      border-color: transparent;\n",
              "      border-bottom-color: var(--fill-color);\n",
              "      border-left-color: var(--fill-color);\n",
              "    }\n",
              "    20% {\n",
              "      border-color: transparent;\n",
              "      border-left-color: var(--fill-color);\n",
              "      border-top-color: var(--fill-color);\n",
              "    }\n",
              "    30% {\n",
              "      border-color: transparent;\n",
              "      border-left-color: var(--fill-color);\n",
              "      border-top-color: var(--fill-color);\n",
              "      border-right-color: var(--fill-color);\n",
              "    }\n",
              "    40% {\n",
              "      border-color: transparent;\n",
              "      border-right-color: var(--fill-color);\n",
              "      border-top-color: var(--fill-color);\n",
              "    }\n",
              "    60% {\n",
              "      border-color: transparent;\n",
              "      border-right-color: var(--fill-color);\n",
              "    }\n",
              "    80% {\n",
              "      border-color: transparent;\n",
              "      border-right-color: var(--fill-color);\n",
              "      border-bottom-color: var(--fill-color);\n",
              "    }\n",
              "    90% {\n",
              "      border-color: transparent;\n",
              "      border-bottom-color: var(--fill-color);\n",
              "    }\n",
              "  }\n",
              "</style>\n",
              "\n",
              "  <script>\n",
              "    async function quickchart(key) {\n",
              "      const quickchartButtonEl =\n",
              "        document.querySelector('#' + key + ' button');\n",
              "      quickchartButtonEl.disabled = true;  // To prevent multiple clicks.\n",
              "      quickchartButtonEl.classList.add('colab-df-spinner');\n",
              "      try {\n",
              "        const charts = await google.colab.kernel.invokeFunction(\n",
              "            'suggestCharts', [key], {});\n",
              "      } catch (error) {\n",
              "        console.error('Error during call to suggestCharts:', error);\n",
              "      }\n",
              "      quickchartButtonEl.classList.remove('colab-df-spinner');\n",
              "      quickchartButtonEl.classList.add('colab-df-quickchart-complete');\n",
              "    }\n",
              "    (() => {\n",
              "      let quickchartButtonEl =\n",
              "        document.querySelector('#df-355b159e-ae67-4d1b-8440-35ce51b44a1e button');\n",
              "      quickchartButtonEl.style.display =\n",
              "        google.colab.kernel.accessAllowed ? 'block' : 'none';\n",
              "    })();\n",
              "  </script>\n",
              "</div>\n",
              "\n",
              "    </div>\n",
              "  </div>\n"
            ],
            "application/vnd.google.colaboratory.intrinsic+json": {
              "type": "dataframe",
              "summary": "{\n  \"name\": \"cola\",\n  \"rows\": 10,\n  \"fields\": [\n    {\n      \"column\": \"Date\",\n      \"properties\": {\n        \"dtype\": \"date\",\n        \"min\": \"2024-03-08 00:00:00\",\n        \"max\": \"2024-03-21 00:00:00\",\n        \"num_unique_values\": 10,\n        \"samples\": [\n          \"2024-03-20 00:00:00\",\n          \"2024-03-11 00:00:00\",\n          \"2024-03-15 00:00:00\"\n        ],\n        \"semantic_type\": \"\",\n        \"description\": \"\"\n      }\n    },\n    {\n      \"column\": \"Return\",\n      \"properties\": {\n        \"dtype\": \"number\",\n        \"std\": 0.08170376368319883,\n        \"min\": -0.0789,\n        \"max\": 0.1222,\n        \"num_unique_values\": 9,\n        \"samples\": [\n          0.0043,\n          -0.0674,\n          0.0376\n        ],\n        \"semantic_type\": \"\",\n        \"description\": \"\"\n      }\n    },\n    {\n      \"column\": \"Pred\",\n      \"properties\": {\n        \"dtype\": \"number\",\n        \"std\": 0,\n        \"min\": -1,\n        \"max\": 1,\n        \"num_unique_values\": 2,\n        \"samples\": [\n          1,\n          -1\n        ],\n        \"semantic_type\": \"\",\n        \"description\": \"\"\n      }\n    },\n    {\n      \"column\": \"Close\",\n      \"properties\": {\n        \"dtype\": \"number\",\n        \"std\": 83.09696210518838,\n        \"min\": 793.05,\n        \"max\": 1018.5,\n        \"num_unique_values\": 10,\n        \"samples\": [\n          1008.35,\n          801.3\n        ],\n        \"semantic_type\": \"\",\n        \"description\": \"\"\n      }\n    }\n  ]\n}"
            }
          },
          "metadata": {},
          "execution_count": 110
        }
      ]
    },
    {
      "cell_type": "markdown",
      "source": [
        "#COMPROBACIONES"
      ],
      "metadata": {
        "id": "247qr3NfGAS-"
      }
    },
    {
      "cell_type": "markdown",
      "source": [
        "##GRÁFICO"
      ],
      "metadata": {
        "id": "l-tAC9zTbrmY"
      }
    },
    {
      "cell_type": "markdown",
      "source": [
        "Graficando la evolución del precio pintando cada punto según el clúster podremos comprobar si se distinguen tendencias alcistas y bajistas."
      ],
      "metadata": {
        "id": "ZZP3T4T7iaCn"
      }
    },
    {
      "cell_type": "code",
      "source": [
        "#GRÁFICO CON LAS PREDICCIONES\n",
        "\n",
        "#Crear una lista de colores según predicción\n",
        "colors = ['green' if c == 1 else 'red' for c in df_forward[\"Pred\"]]\n",
        "\n",
        "\n",
        "#Crear el gráfico\n",
        "plt.figure(figsize=(10, 5))\n",
        "plt.scatter(cola.index, cola[\"Close\"], c=colors, s=3)\n",
        "plt.show()"
      ],
      "metadata": {
        "colab": {
          "base_uri": "https://localhost:8080/",
          "height": 445
        },
        "id": "4b4oIQneUIbD",
        "outputId": "2111d333-4596-4174-bc57-b1eb90f7e51f"
      },
      "execution_count": 111,
      "outputs": [
        {
          "output_type": "display_data",
          "data": {
            "text/plain": [
              "<Figure size 1000x500 with 1 Axes>"
            ],
            "image/png": "[encoded data removed]"
          },
          "metadata": {}
        }
      ]
    },
    {
      "cell_type": "markdown",
      "source": [
        "##HISTOGRAMAS"
      ],
      "metadata": {
        "id": "9wHezeEifzVB"
      }
    },
    {
      "cell_type": "markdown",
      "source": [
        "Superponiendo el histograma de los retornos correspondientes a cada clúster podremos comprobar las diferencias entre cada clúster."
      ],
      "metadata": {
        "id": "HqcIer5ri1lN"
      }
    },
    {
      "cell_type": "code",
      "source": [
        "#HISTOGRAMAS SUPERPUESTOS DE LOS RETORNOS DE LOS CLÚSTERS\n",
        "\n",
        "#Generar histogramas\n",
        "plt.figure(figsize=(8, 4))\n",
        "plt.hist(df_forward[df_forward[\"Pred\"]==-1][\"Return\"], density=True, alpha=0.5, color=\"red\", label=\"DOWN\")\n",
        "plt.hist(df_forward[df_forward[\"Pred\"]==1][\"Return\"], density=True, alpha=0.5, color=\"green\", label=\"UP\")\n",
        "plt.xlabel(\"Retorno\")\n",
        "plt.ylabel(\"Densidad\")\n",
        "plt.title(\"UP vs DOWN\")\n",
        "plt.legend()\n",
        "plt.show()"
      ],
      "metadata": {
        "colab": {
          "base_uri": "https://localhost:8080/",
          "height": 410
        },
        "id": "hzM5cOzjeGAE",
        "outputId": "cc77a813-70c0-4716-d9d4-76ee189654cb"
      },
      "execution_count": 47,
      "outputs": [
        {
          "output_type": "display_data",
          "data": {
            "text/plain": [
              "<Figure size 800x400 with 1 Axes>"
            ],
            "image/png": "[encoded data removed]"
          },
          "metadata": {}
        }
      ]
    },
    {
      "cell_type": "markdown",
      "source": [
        "##TEST ESTADÍSTICO"
      ],
      "metadata": {
        "id": "Hoq_yZLigmtJ"
      }
    },
    {
      "cell_type": "markdown",
      "source": [
        "Realizando el test de Kolmogorov-Smirnov podremos confirmar si los clústers son significativamente diferentes: el estadístico nos mostrará la magnitud de la diferencia y el p_value la fiabilidad del test."
      ],
      "metadata": {
        "id": "V0TShj0oi_eG"
      }
    },
    {
      "cell_type": "code",
      "source": [
        "#TEST DE KOLMOGOROV-SMIRNOV\n",
        "\n",
        "#Aplicar test de Kolmogorov-Smirnov\n",
        "statistic, p_value = ks_2samp(df_forward.loc[df_forward[\"Pred\"] == 1, \"Return\"],\n",
        "                              df_forward.loc[df_forward[\"Pred\"] == -1, \"Return\"])\n",
        "\n",
        "print(\"Estadístico:\", statistic)\n",
        "print(\"P_value:\", p_value)"
      ],
      "metadata": {
        "colab": {
          "base_uri": "https://localhost:8080/"
        },
        "id": "wYo5tlTghJUY",
        "outputId": "4781fb24-c0ec-47cf-d8ec-b5ea7fe1d317"
      },
      "execution_count": 48,
      "outputs": [
        {
          "output_type": "stream",
          "name": "stdout",
          "text": [
            "Estadístico: 0.36764705882352944\n",
            "P_value: 0.0038701209173874645\n"
          ]
        }
      ]
    },
    {
      "cell_type": "markdown",
      "source": [
        "#CONCLUSIÓN"
      ],
      "metadata": {
        "id": "gwZlsZN6jj39"
      }
    },
    {
      "cell_type": "markdown",
      "source": [
        "\\:Se ha podido comprobar visual y estadísticamente que un único indicador es suficiente para distinguir tendencias con clusterización.\n"
      ],
      "metadata": {
        "id": "DN_e1czPjnxU"
      }
    },
    {
      "cell_type": "code",
      "source": [
        "import pandas as pd\n",
        "\n",
        "# Lista de activos\n",
        "activos = ['GGAL', 'META', 'COME', 'SEMIO']\n",
        "\n",
        "# Ejemplo de datos\n",
        "data = pd.DataFrame({\n",
        "    'Date': ['2023-10-17', '2023-10-18', '2023-10-19', '2023-10-20', '2023-10-23'],\n",
        "    'Pred': [17, 180, 19, 20, 23],\n",
        "    'Close': [1744.250000, 1673.000000, 1622.900024, 1738.849976, 1534.650024]\n",
        "})\n",
        "\n",
        "# Convertir la columna 'Date' a datetime\n",
        "data['Date'] = pd.to_datetime(data['Date'])\n",
        "\n",
        "# Crear un DataFrame vacío para almacenar los datos pivoteados\n",
        "datos_pivotados = pd.DataFrame(index=data['Date'])\n",
        "\n",
        "# Iterar sobre la lista de activos\n",
        "for activo in activos:\n",
        "    print(activo)\n",
        "    print(data['Pred'])\n",
        "    # Agregar los datos de predicción del activo al DataFrame pivoteado\n",
        "    datos_pivotados[activo] = data['Pred']\n",
        "\n",
        "print(datos_pivotados)\n",
        "# Transponer el DataFrame para que los activos estén en filas y las fechas en columnas\n",
        "datos_pivotados = datos_pivotados.transpose()\n",
        "\n",
        "print(data)\n",
        "# Imprimir el DataFrame pivoteado\n",
        "print(datos_pivotados)\n",
        "\n",
        "\n"
      ],
      "metadata": {
        "id": "wOu-hF9wUW5a",
        "outputId": "45b752e5-cc22-4f5c-c3c3-0fe66f17c53a",
        "colab": {
          "base_uri": "https://localhost:8080/"
        }
      },
      "execution_count": null,
      "outputs": [
        {
          "output_type": "stream",
          "name": "stdout",
          "text": [
            "GGAL\n",
            "0     17\n",
            "1    180\n",
            "2     19\n",
            "3     20\n",
            "4     23\n",
            "Name: Pred, dtype: int64\n",
            "META\n",
            "0     17\n",
            "1    180\n",
            "2     19\n",
            "3     20\n",
            "4     23\n",
            "Name: Pred, dtype: int64\n",
            "COME\n",
            "0     17\n",
            "1    180\n",
            "2     19\n",
            "3     20\n",
            "4     23\n",
            "Name: Pred, dtype: int64\n",
            "SEMIO\n",
            "0     17\n",
            "1    180\n",
            "2     19\n",
            "3     20\n",
            "4     23\n",
            "Name: Pred, dtype: int64\n",
            "            GGAL  META  COME  SEMIO\n",
            "Date                               \n",
            "2023-10-17   NaN   NaN   NaN    NaN\n",
            "2023-10-18   NaN   NaN   NaN    NaN\n",
            "2023-10-19   NaN   NaN   NaN    NaN\n",
            "2023-10-20   NaN   NaN   NaN    NaN\n",
            "2023-10-23   NaN   NaN   NaN    NaN\n",
            "        Date  Pred        Close\n",
            "0 2023-10-17    17  1744.250000\n",
            "1 2023-10-18   180  1673.000000\n",
            "2 2023-10-19    19  1622.900024\n",
            "3 2023-10-20    20  1738.849976\n",
            "4 2023-10-23    23  1534.650024\n",
            "Date   2023-10-17  2023-10-18  2023-10-19  2023-10-20  2023-10-23\n",
            "GGAL          NaN         NaN         NaN         NaN         NaN\n",
            "META          NaN         NaN         NaN         NaN         NaN\n",
            "COME          NaN         NaN         NaN         NaN         NaN\n",
            "SEMIO         NaN         NaN         NaN         NaN         NaN\n"
          ]
        }
      ]
    },
    {
      "cell_type": "code",
      "source": [
        "\n",
        "# Endpoint selection (depends on your broker account)\n",
        "api_url = \"https://api.bull.xoms.com.ar/\"\n",
        "ws_url = \"wss://api.bull.xoms.com.ar/\"\n",
        "\n",
        "pyRofex._set_environment_parameter(\"url\", api_url, pyRofex.Environment.LIVE)\n",
        "pyRofex._set_environment_parameter(\"ws\", ws_url, pyRofex.Environment.LIVE)\n",
        "\n",
        "#Initialize the environment\n",
        "pyRofex.initialize(user=\"xxxxxxxxxxxx\",\n",
        "                   password=\"xxxxxxxxxxxx\",\n",
        "                   account=\"xxxxxxxx\",\n",
        "                   environment=pyRofex.Environment.LIVE)\n",
        "\n",
        "\n",
        "\n",
        "\n",
        "pyRofex.set_default_environment(pyRofex.Environment.LIVE)\n",
        "\n",
        "detalle1 = pyRofex.get_instrument_details(ticker='MERV - XMEV - AE38 - CI')\n",
        "\n",
        "tiki = detalle1[\"instrument\"][\"minPriceIncrement\"]\n",
        "\n",
        "print(tiki)\n",
        "\n"
      ],
      "metadata": {
        "colab": {
          "base_uri": "https://localhost:8080/"
        },
        "id": "5zLgh1rB6AHk",
        "outputId": "9d685f05-7edd-4fc6-d575-76b5e40ae660"
      },
      "execution_count": 4,
      "outputs": [
        {
          "output_type": "stream",
          "name": "stdout",
          "text": [
            "5.0\n"
          ]
        }
      ]
    },
    {
      "cell_type": "code",
      "source": [
        "\n",
        "papeles = [\"ALUA.BA\", \"BBAR.BA\", \"BMA.BA\", \"BYMA.BA\", \"CEPU.BA\", \"COME.BA\", \"CRES.BA\", \"CVH.BA\", \"EDN.BA\",\n",
        "\"GGAL.BA\", \"LOMA.BA\", \"MIRG.BA\", \"PAMP.BA\", \"SUPV.BA\", \"TECO2.BA\", \"TGNO4.BA\", \"TGSU2.BA\", \"TRAN.BA\",\n",
        "\"TXAR.BA\", \"VALO.BA\", \"YPFD.BA\"]\n",
        "\n",
        "\n",
        "\n",
        "start_date=\"2010-01-01\"\n",
        "\n",
        "end_date=\"2024-08-31\"\n",
        "\n",
        "\n",
        "\n",
        "\n",
        "\n",
        "# Iterar sobre la lista de activos\n",
        "for activo in papeles:\n",
        "\n",
        "    # Copiar los datos del DataFrame original\n",
        "    symbol = activo\n",
        "    print(symbol + \" ini\")\n",
        "    try:\n",
        "\n",
        "      data =yf.download(symbol, start=start_date, end=end_date,)\n",
        "\n",
        "      # Convertir los datos en un DataFrame de pandas\n",
        "      data_df = pd.DataFrame(data)\n",
        "\n",
        "\n",
        "\n",
        "      #Calcular indicadores\n",
        "      data = calculate_williams_ya(data_df)\n",
        "      #print(data)\n",
        "\n",
        "      data_trimmed = data.iloc[:-2]\n",
        "      #print(data_trimmed)\n",
        "\n",
        "      #Realizar particiones\n",
        "      train, forward = split(data, 100)\n",
        "\n",
        "      train= train.dropna()\n",
        "\n",
        "      #GENERACIÓN DE CLÚSTERS\n",
        "\n",
        "      #Preparar datos de entrenamiento\n",
        "      #print(X_train.head(5))\n",
        "\n",
        "      X_train = train.iloc[:,:-2]\n",
        "\n",
        "      #print(X_train.head(5))\n",
        "\n",
        "      #Preparar datos forward\n",
        "      X_forward = forward.iloc[:,:-2]\n",
        "\n",
        "\n",
        "      # Resetear K-Means\n",
        "      kmeans = KMeans(n_clusters=2)\n",
        "      #Aplicar K-Means\n",
        "      kmeans = KMeans(n_clusters=2).fit(X_train)\n",
        "      predictions = kmeans.predict(X_forward)\n",
        "\n",
        "      #Generar predicciones en forward\n",
        "      df_forward = pd.DataFrame(forward[\"Return\"])\n",
        "      #df_forward[\"Sentido\"] = forward[\"Sentido\"]\n",
        "      df_forward[\"Pred\"] = predictions\n",
        "      df_forward[\"Close\"] = forward[\"Close\"]\n",
        "\n",
        "      #COMPROBACIÓN DE CLÚSTERS\n",
        "\n",
        "      #Calcular retornos medios del clúster con la etiqueta 0\n",
        "      ave_zero = np.mean(df_forward[df_forward[\"Pred\"]==0][\"Return\"])\n",
        "      print(\"Retorno medio de la etiqueta 0:\", round(ave_zero, 4))\n",
        "\n",
        "      #Calcular retornos medios del clúster con la etiqueta 1\n",
        "      ave_one = np.mean(df_forward[df_forward[\"Pred\"]==1][\"Return\"])\n",
        "      print(\"Retorno medio de la etiqueta 1:\", round(ave_one, 4))\n",
        "\n",
        "      #Calcular retornos medios del clúster con la etiqueta 2\n",
        "      #ave_dos = np.mean(df_forward[df_forward[\"Pred\"]==2][\"Return\"])\n",
        "      #print(\"Retorno medio de la etiqueta 2:\", round(ave_dos, 4))\n",
        "\n",
        "      #RENOMBRADO DE LAS ETIQUETAS OTORGADAS POR K-MEANS EN 1 O -1\n",
        "\n",
        "      #Renombrar etiquetas\n",
        "      if ave_zero > ave_one:\n",
        "        df_forward[\"Pred\"] = np.where(df_forward[\"Pred\"]==0, 1, -1)\n",
        "      else:\n",
        "        df_forward[\"Pred\"] = np.where(df_forward[\"Pred\"]==0, -1, 1)\n",
        "\n",
        "      #FORMATO DE FECHAS\n",
        "      dates = pd.to_datetime(df_forward.index)\n",
        "      df_forward.set_index(dates, inplace=True)\n",
        "\n",
        "      #print(df_forward)\n",
        "\n",
        "      cabeza= df_forward.head(400)\n",
        "      cola = df_forward.tail(300)\n",
        "\n",
        "      print(symbol)\n",
        "\n",
        "      print(cola.tail(10))\n",
        "    except Exception as E:\n",
        "\n",
        "      print(symbol + \" fini\")\n",
        "    time.sleep(7)\n",
        "\n",
        "# Imprimir los DataFrames de cada activo\n",
        "\n"
      ],
      "metadata": {
        "colab": {
          "base_uri": "https://localhost:8080/"
        },
        "id": "zFW_zgqNMAVW",
        "outputId": "578ca1e4-b56a-4f2a-fdc1-447618713a61"
      },
      "execution_count": 117,
      "outputs": [
        {
          "output_type": "stream",
          "name": "stdout",
          "text": [
            "ALUA.BA ini\n"
          ]
        },
        {
          "output_type": "stream",
          "name": "stderr",
          "text": [
            "\r[*********************100%%**********************]  1 of 1 completed\n"
          ]
        },
        {
          "output_type": "stream",
          "name": "stdout",
          "text": [
            "Retorno medio de la etiqueta 0: 0.0158\n",
            "Retorno medio de la etiqueta 1: -0.0052\n",
            "Retorno medio de la etiqueta 2: nan\n",
            "ALUA.BA\n",
            "            Return  Pred  Close\n",
            "Date                           \n",
            "2024-03-08 -0.0204    -1  748.5\n",
            "2024-03-11 -0.0268    -1  716.5\n",
            "2024-03-12  0.0999    -1  771.0\n",
            "2024-03-13  0.0138    -1  801.0\n",
            "2024-03-14 -0.0167    -1  795.5\n",
            "2024-03-15 -0.0195    -1  789.5\n",
            "2024-03-18  0.0128    -1  789.5\n",
            "2024-03-19  0.0937    -1  854.0\n",
            "2024-03-20  0.0411    -1  896.5\n",
            "2024-03-21     NaN     1  938.5\n"
          ]
        },
        {
          "output_type": "stream",
          "name": "stderr",
          "text": [
            "\r[*********************100%%**********************]  1 of 1 completed"
          ]
        },
        {
          "output_type": "stream",
          "name": "stdout",
          "text": [
            "BBAR.BA ini\n"
          ]
        },
        {
          "output_type": "stream",
          "name": "stderr",
          "text": [
            "\n"
          ]
        },
        {
          "output_type": "stream",
          "name": "stdout",
          "text": [
            "Retorno medio de la etiqueta 0: 0.0022\n",
            "Retorno medio de la etiqueta 1: 0.0144\n",
            "Retorno medio de la etiqueta 2: nan\n",
            "BBAR.BA\n",
            "            Return  Pred    Close\n",
            "Date                             \n",
            "2024-03-08  0.0000     1  2550.65\n",
            "2024-03-11 -0.0392     1  2383.35\n",
            "2024-03-12  0.0816     1  2579.90\n",
            "2024-03-13  0.0302     1  2736.60\n",
            "2024-03-14 -0.0473     1  2661.90\n",
            "2024-03-15  0.0765     1  2795.50\n",
            "2024-03-18  0.0500     1  2891.85\n",
            "2024-03-19 -0.0306     1  2844.05\n",
            "2024-03-20  0.0547     1  2996.75\n",
            "2024-03-21     NaN     1  3059.50\n",
            "BMA.BA ini\n"
          ]
        },
        {
          "output_type": "stream",
          "name": "stderr",
          "text": [
            "\r[*********************100%%**********************]  1 of 1 completed\n"
          ]
        },
        {
          "output_type": "stream",
          "name": "stdout",
          "text": [
            "Retorno medio de la etiqueta 0: -0.0249\n",
            "Retorno medio de la etiqueta 1: 0.0232\n",
            "Retorno medio de la etiqueta 2: nan\n",
            "BMA.BA\n",
            "            Return  Pred    Close\n",
            "Date                             \n",
            "2024-03-08  0.0164     1  4176.25\n",
            "2024-03-11 -0.0420     1  3967.20\n",
            "2024-03-12  0.1000     1  4278.40\n",
            "2024-03-13  0.0109     1  4444.20\n",
            "2024-03-14 -0.0330     1  4396.95\n",
            "2024-03-15  0.0939     1  4688.20\n",
            "2024-03-18  0.0584     1  4873.75\n",
            "2024-03-19 -0.0060     1  4930.35\n",
            "2024-03-20  0.0841     1  5276.50\n",
            "2024-03-21     NaN     1  5623.45\n",
            "BYMA.BA ini\n"
          ]
        },
        {
          "output_type": "stream",
          "name": "stderr",
          "text": [
            "\r[*********************100%%**********************]  1 of 1 completed\n"
          ]
        },
        {
          "output_type": "stream",
          "name": "stdout",
          "text": [
            "Retorno medio de la etiqueta 0: -0.006\n",
            "Retorno medio de la etiqueta 1: 0.0181\n",
            "Retorno medio de la etiqueta 2: nan\n",
            "BYMA.BA\n",
            "            Return  Pred   Close\n",
            "Date                            \n",
            "2024-03-08 -0.0455    -1  1046.0\n",
            "2024-03-11 -0.0381    -1  1006.0\n",
            "2024-03-12  0.0693    -1  1078.5\n",
            "2024-03-13  0.1065     1  1185.0\n",
            "2024-03-14 -0.0343     1  1161.5\n",
            "2024-03-15  0.0399     1  1188.0\n",
            "2024-03-18  0.0729     1  1287.5\n",
            "2024-03-19 -0.0369     1  1236.5\n",
            "2024-03-20  0.0738     1  1298.0\n",
            "2024-03-21     NaN     1  1330.0\n",
            "CEPU.BA ini\n"
          ]
        },
        {
          "output_type": "stream",
          "name": "stderr",
          "text": [
            "\r[*********************100%%**********************]  1 of 1 completed\n"
          ]
        },
        {
          "output_type": "stream",
          "name": "stdout",
          "text": [
            "Retorno medio de la etiqueta 0: 0.0143\n",
            "Retorno medio de la etiqueta 1: 0.0001\n",
            "Retorno medio de la etiqueta 2: nan\n",
            "CEPU.BA\n",
            "            Return  Pred    Close\n",
            "Date                             \n",
            "2024-03-08  0.0237    -1   823.60\n",
            "2024-03-11 -0.0366    -1   788.80\n",
            "2024-03-12  0.1020    -1   848.20\n",
            "2024-03-13 -0.0408    -1   827.65\n",
            "2024-03-14 -0.0129    -1   821.70\n",
            "2024-03-15  0.0459    -1   851.10\n",
            "2024-03-18  0.1382    -1   956.70\n",
            "2024-03-19 -0.0357    -1   947.65\n",
            "2024-03-20  0.0847     1  1014.75\n",
            "2024-03-21     NaN     1  1060.00\n"
          ]
        },
        {
          "output_type": "stream",
          "name": "stderr",
          "text": [
            "\r[*********************100%%**********************]  1 of 1 completed"
          ]
        },
        {
          "output_type": "stream",
          "name": "stdout",
          "text": [
            "COME.BA ini\n"
          ]
        },
        {
          "output_type": "stream",
          "name": "stderr",
          "text": [
            "\n"
          ]
        },
        {
          "output_type": "stream",
          "name": "stdout",
          "text": [
            "Retorno medio de la etiqueta 0: -0.0022\n",
            "Retorno medio de la etiqueta 1: 0.0107\n",
            "Retorno medio de la etiqueta 2: nan\n",
            "COME.BA\n",
            "            Return  Pred   Close\n",
            "Date                            \n",
            "2024-03-08  0.0011    -1   94.05\n",
            "2024-03-11 -0.0329    -1   90.95\n",
            "2024-03-12  0.0989    -1   97.65\n",
            "2024-03-13  0.0095     1  100.75\n",
            "2024-03-14 -0.0490    -1   97.00\n",
            "2024-03-15  0.0417    -1   98.95\n",
            "2024-03-18  0.0060     1  100.65\n",
            "2024-03-19  0.0338     1  103.10\n",
            "2024-03-20  0.0192     1  105.45\n",
            "2024-03-21     NaN     1  108.25\n",
            "CRES.BA ini\n"
          ]
        },
        {
          "output_type": "stream",
          "name": "stderr",
          "text": [
            "\r[*********************100%%**********************]  1 of 1 completed\n"
          ]
        },
        {
          "output_type": "stream",
          "name": "stdout",
          "text": [
            "Retorno medio de la etiqueta 0: 0.0152\n",
            "Retorno medio de la etiqueta 1: -0.0054\n",
            "Retorno medio de la etiqueta 2: nan\n",
            "CRES.BA\n",
            "            Return  Pred   Close\n",
            "Date                            \n",
            "2024-03-08  0.0442    -1  838.65\n",
            "2024-03-11 -0.0547    -1  803.75\n",
            "2024-03-12  0.0828    -1  863.70\n",
            "2024-03-13 -0.0184    -1  853.55\n",
            "2024-03-14 -0.0273    -1  837.40\n",
            "2024-03-15  0.0256    -1  849.10\n",
            "2024-03-18  0.0505    -1  897.05\n",
            "2024-03-19 -0.0106    -1  884.55\n",
            "2024-03-20  0.0409    -1  926.30\n",
            "2024-03-21     NaN    -1  967.00\n",
            "CVH.BA ini\n"
          ]
        },
        {
          "output_type": "stream",
          "name": "stderr",
          "text": [
            "\r[*********************100%%**********************]  1 of 1 completed\n"
          ]
        },
        {
          "output_type": "stream",
          "name": "stdout",
          "text": [
            "Retorno medio de la etiqueta 0: -0.0025\n",
            "Retorno medio de la etiqueta 1: 0.0129\n",
            "Retorno medio de la etiqueta 2: nan\n",
            "CVH.BA\n",
            "            Return  Pred   Close\n",
            "Date                            \n",
            "2024-03-08  0.0723    -1  3685.5\n",
            "2024-03-11 -0.0746    -1  3532.0\n",
            "2024-03-12  0.1143    -1  3726.5\n",
            "2024-03-13 -0.0859    -1  3564.5\n",
            "2024-03-14  0.0266    -1  3654.0\n",
            "2024-03-15  0.0765    -1  3831.0\n",
            "2024-03-18 -0.0051    -1  3889.5\n",
            "2024-03-19  0.0204    -1  3968.5\n",
            "2024-03-20  0.0437     1  4143.5\n",
            "2024-03-21     NaN     1  4434.0\n",
            "EDN.BA ini\n"
          ]
        },
        {
          "output_type": "stream",
          "name": "stderr",
          "text": [
            "\r[*********************100%%**********************]  1 of 1 completed\n"
          ]
        },
        {
          "output_type": "stream",
          "name": "stdout",
          "text": [
            "Retorno medio de la etiqueta 0: 0.0198\n",
            "Retorno medio de la etiqueta 1: -0.0061\n",
            "Retorno medio de la etiqueta 2: nan\n",
            "EDN.BA\n",
            "            Return  Pred    Close\n",
            "Date                             \n",
            "2024-03-08  0.0703    -1   839.75\n",
            "2024-03-11 -0.0674    -1   801.30\n",
            "2024-03-12  0.1222    -1   881.10\n",
            "2024-03-13 -0.0789    -1   819.25\n",
            "2024-03-14 -0.0467    -1   793.05\n",
            "2024-03-15  0.0376    -1   814.45\n",
            "2024-03-18  0.1220    -1   915.45\n",
            "2024-03-19  0.0043    -1   923.50\n",
            "2024-03-20  0.1129    -1  1008.35\n",
            "2024-03-21     NaN     1  1013.00\n"
          ]
        },
        {
          "output_type": "stream",
          "name": "stderr",
          "text": [
            "\r[*********************100%%**********************]  1 of 1 completed"
          ]
        },
        {
          "output_type": "stream",
          "name": "stdout",
          "text": [
            "GGAL.BA ini\n"
          ]
        },
        {
          "output_type": "stream",
          "name": "stderr",
          "text": [
            "\n"
          ]
        },
        {
          "output_type": "stream",
          "name": "stdout",
          "text": [
            "Retorno medio de la etiqueta 0: 0.007\n",
            "Retorno medio de la etiqueta 1: 0.0133\n",
            "Retorno medio de la etiqueta 2: nan\n",
            "GGAL.BA\n",
            "            Return  Pred    Close\n",
            "Date                             \n",
            "2024-03-08 -0.0204    -1  2340.20\n",
            "2024-03-11 -0.0244    -1  2221.75\n",
            "2024-03-12  0.0907     1  2437.15\n",
            "2024-03-13  0.0198     1  2552.20\n",
            "2024-03-14 -0.0276     1  2479.70\n",
            "2024-03-15  0.0405     1  2564.80\n",
            "2024-03-18  0.0322     1  2669.10\n",
            "2024-03-19 -0.0066     1  2621.55\n",
            "2024-03-20  0.0548     1  2780.40\n",
            "2024-03-21     NaN     1  2849.00\n"
          ]
        },
        {
          "output_type": "stream",
          "name": "stderr",
          "text": [
            "\r[*********************100%%**********************]  1 of 1 completed"
          ]
        },
        {
          "output_type": "stream",
          "name": "stdout",
          "text": [
            "LOMA.BA ini\n"
          ]
        },
        {
          "output_type": "stream",
          "name": "stderr",
          "text": [
            "\n"
          ]
        },
        {
          "output_type": "stream",
          "name": "stdout",
          "text": [
            "Retorno medio de la etiqueta 0: 0.0089\n",
            "Retorno medio de la etiqueta 1: 0.0003\n",
            "Retorno medio de la etiqueta 2: nan\n",
            "LOMA.BA\n",
            "            Return  Pred    Close\n",
            "Date                             \n",
            "2024-03-08  0.0948    -1  1415.40\n",
            "2024-03-11 -0.0554    -1  1357.75\n",
            "2024-03-12  0.0987    -1  1435.75\n",
            "2024-03-13 -0.0017    -1  1448.15\n",
            "2024-03-14 -0.0220    -1  1457.35\n",
            "2024-03-15 -0.0138    -1  1483.15\n",
            "2024-03-18  0.0877    -1  1536.25\n",
            "2024-03-19 -0.0173    -1  1519.55\n",
            "2024-03-20  0.0592     1  1580.00\n",
            "2024-03-21     NaN     1  1585.00\n"
          ]
        },
        {
          "output_type": "stream",
          "name": "stderr",
          "text": [
            "\r[*********************100%%**********************]  1 of 1 completed"
          ]
        },
        {
          "output_type": "stream",
          "name": "stdout",
          "text": [
            "MIRG.BA ini\n"
          ]
        },
        {
          "output_type": "stream",
          "name": "stderr",
          "text": [
            "\n"
          ]
        },
        {
          "output_type": "stream",
          "name": "stdout",
          "text": [
            "Retorno medio de la etiqueta 0: -0.0076\n",
            "Retorno medio de la etiqueta 1: 0.0127\n",
            "Retorno medio de la etiqueta 2: nan\n",
            "MIRG.BA\n",
            "            Return  Pred    Close\n",
            "Date                             \n",
            "2024-03-08  0.1251    -1  12066.0\n",
            "2024-03-11 -0.0947    -1  11142.5\n",
            "2024-03-12  0.0726    -1  11450.5\n",
            "2024-03-13 -0.0062    -1  11726.0\n",
            "2024-03-14 -0.0235    -1  11455.0\n",
            "2024-03-15  0.0449    -1  11964.0\n",
            "2024-03-18  0.0359    -1  12292.0\n",
            "2024-03-19  0.1418     1  13850.5\n",
            "2024-03-20 -0.0107     1  13885.0\n",
            "2024-03-21     NaN     1  13700.5\n",
            "PAMP.BA ini\n"
          ]
        },
        {
          "output_type": "stream",
          "name": "stderr",
          "text": [
            "\r[*********************100%%**********************]  1 of 1 completed\n"
          ]
        },
        {
          "output_type": "stream",
          "name": "stdout",
          "text": [
            "Retorno medio de la etiqueta 0: 0.0091\n",
            "Retorno medio de la etiqueta 1: -0.0017\n",
            "Retorno medio de la etiqueta 2: nan\n",
            "PAMP.BA\n",
            "            Return  Pred    Close\n",
            "Date                             \n",
            "2024-03-08  0.0379    -1  1668.50\n",
            "2024-03-11 -0.0535    -1  1604.15\n",
            "2024-03-12  0.0814    -1  1700.00\n",
            "2024-03-13 -0.0454    -1  1665.15\n",
            "2024-03-14  0.0054    -1  1663.40\n",
            "2024-03-15  0.0329    -1  1711.35\n",
            "2024-03-18  0.0725    -1  1839.05\n",
            "2024-03-19 -0.0108    -1  1817.20\n",
            "2024-03-20  0.0683    -1  1921.90\n",
            "2024-03-21     NaN    -1  1933.50\n"
          ]
        },
        {
          "output_type": "stream",
          "name": "stderr",
          "text": [
            "\r[*********************100%%**********************]  1 of 1 completed"
          ]
        },
        {
          "output_type": "stream",
          "name": "stdout",
          "text": [
            "SUPV.BA ini\n"
          ]
        },
        {
          "output_type": "stream",
          "name": "stderr",
          "text": [
            "\n"
          ]
        },
        {
          "output_type": "stream",
          "name": "stdout",
          "text": [
            "Retorno medio de la etiqueta 0: 0.0209\n",
            "Retorno medio de la etiqueta 1: 0.0034\n",
            "Retorno medio de la etiqueta 2: nan\n",
            "SUPV.BA\n",
            "            Return  Pred    Close\n",
            "Date                             \n",
            "2024-03-08  0.0072     1   977.65\n",
            "2024-03-11 -0.0787    -1   898.60\n",
            "2024-03-12  0.0721    -1   962.40\n",
            "2024-03-13  0.1223     1  1090.35\n",
            "2024-03-14 -0.0397     1  1043.40\n",
            "2024-03-15  0.1029     1  1146.75\n",
            "2024-03-18  0.0244     1  1169.05\n",
            "2024-03-19  0.0213     1  1199.20\n",
            "2024-03-20  0.0425     1  1242.10\n",
            "2024-03-21     NaN     1  1293.50\n"
          ]
        },
        {
          "output_type": "stream",
          "name": "stderr",
          "text": [
            "\r[*********************100%%**********************]  1 of 1 completed"
          ]
        },
        {
          "output_type": "stream",
          "name": "stdout",
          "text": [
            "TECO2.BA ini\n"
          ]
        },
        {
          "output_type": "stream",
          "name": "stderr",
          "text": [
            "\n"
          ]
        },
        {
          "output_type": "stream",
          "name": "stdout",
          "text": [
            "Retorno medio de la etiqueta 0: -0.0008\n",
            "Retorno medio de la etiqueta 1: 0.0139\n",
            "Retorno medio de la etiqueta 2: nan\n",
            "TECO2.BA\n",
            "            Return  Pred    Close\n",
            "Date                             \n",
            "2024-03-08  0.1117    -1  1446.40\n",
            "2024-03-11 -0.0730    -1  1333.80\n",
            "2024-03-12  0.0898    -1  1457.60\n",
            "2024-03-13 -0.0014    -1  1465.95\n",
            "2024-03-14 -0.0130    -1  1496.20\n",
            "2024-03-15  0.1414    -1  1647.25\n",
            "2024-03-18  0.0175    -1  1670.55\n",
            "2024-03-19 -0.0023    -1  1661.35\n",
            "2024-03-20  0.0714     1  1756.40\n",
            "2024-03-21     NaN     1  1752.00\n",
            "TGNO4.BA ini\n"
          ]
        },
        {
          "output_type": "stream",
          "name": "stderr",
          "text": [
            "\r[*********************100%%**********************]  1 of 1 completed\n"
          ]
        },
        {
          "output_type": "stream",
          "name": "stdout",
          "text": [
            "Retorno medio de la etiqueta 0: -0.0027\n",
            "Retorno medio de la etiqueta 1: 0.0175\n",
            "Retorno medio de la etiqueta 2: nan\n",
            "TGNO4.BA\n",
            "            Return  Pred   Close\n",
            "Date                            \n",
            "2024-03-08  0.0253    -1  1560.5\n",
            "2024-03-11 -0.0516    -1  1497.0\n",
            "2024-03-12  0.0501    -1  1580.5\n",
            "2024-03-13  0.0659    -1  1670.5\n",
            "2024-03-14  0.0483    -1  1768.5\n",
            "2024-03-15  0.0899    -1  1874.5\n",
            "2024-03-18  0.0381     1  1989.0\n",
            "2024-03-19 -0.0348     1  1944.0\n",
            "2024-03-20  0.0098     1  1969.0\n",
            "2024-03-21     NaN     1  2003.0\n",
            "TGSU2.BA ini\n"
          ]
        },
        {
          "output_type": "stream",
          "name": "stderr",
          "text": [
            "\r[*********************100%%**********************]  1 of 1 completed\n"
          ]
        },
        {
          "output_type": "stream",
          "name": "stdout",
          "text": [
            "Retorno medio de la etiqueta 0: 0.0132\n",
            "Retorno medio de la etiqueta 1: -0.0006\n",
            "Retorno medio de la etiqueta 2: nan\n",
            "TGSU2.BA\n",
            "            Return  Pred    Close\n",
            "Date                             \n",
            "2024-03-08  0.0138    -1  2560.25\n",
            "2024-03-11 -0.0253    -1  2463.55\n",
            "2024-03-12  0.0880    -1  2683.40\n",
            "2024-03-13 -0.0441    -1  2599.45\n",
            "2024-03-14 -0.0019    -1  2600.05\n",
            "2024-03-15  0.0786    -1  2738.80\n",
            "2024-03-18  0.0718    -1  2926.40\n",
            "2024-03-19 -0.0203    -1  2941.60\n",
            "2024-03-20  0.0715    -1  3131.00\n",
            "2024-03-21     NaN     1  3199.75\n"
          ]
        },
        {
          "output_type": "stream",
          "name": "stderr",
          "text": [
            "\r[*********************100%%**********************]  1 of 1 completed"
          ]
        },
        {
          "output_type": "stream",
          "name": "stdout",
          "text": [
            "TRAN.BA ini\n"
          ]
        },
        {
          "output_type": "stream",
          "name": "stderr",
          "text": [
            "\n"
          ]
        },
        {
          "output_type": "stream",
          "name": "stdout",
          "text": [
            "Retorno medio de la etiqueta 0: -0.0107\n",
            "Retorno medio de la etiqueta 1: 0.0173\n",
            "Retorno medio de la etiqueta 2: nan\n",
            "TRAN.BA\n",
            "            Return  Pred   Close\n",
            "Date                            \n",
            "2024-03-08  0.0143    -1   912.0\n",
            "2024-03-11 -0.0184    -1   897.0\n",
            "2024-03-12  0.1013    -1   988.0\n",
            "2024-03-13  0.0680    -1  1049.5\n",
            "2024-03-14 -0.0618    -1  1017.5\n",
            "2024-03-15  0.0908    -1  1064.5\n",
            "2024-03-18  0.0430    -1  1140.0\n",
            "2024-03-19  0.0184    -1  1153.5\n",
            "2024-03-20  0.0336     1  1177.5\n",
            "2024-03-21     NaN     1  1185.0\n"
          ]
        },
        {
          "output_type": "stream",
          "name": "stderr",
          "text": [
            "\r[*********************100%%**********************]  1 of 1 completed"
          ]
        },
        {
          "output_type": "stream",
          "name": "stdout",
          "text": [
            "TXAR.BA ini\n"
          ]
        },
        {
          "output_type": "stream",
          "name": "stderr",
          "text": [
            "\n"
          ]
        },
        {
          "output_type": "stream",
          "name": "stdout",
          "text": [
            "Retorno medio de la etiqueta 0: -0.0032\n",
            "Retorno medio de la etiqueta 1: 0.0145\n",
            "Retorno medio de la etiqueta 2: nan\n",
            "TXAR.BA\n",
            "            Return  Pred  Close\n",
            "Date                           \n",
            "2024-03-08 -0.0362    -1  732.5\n",
            "2024-03-11 -0.0225    -1  712.5\n",
            "2024-03-12  0.0349    -1  735.5\n",
            "2024-03-13  0.0115    -1  750.0\n",
            "2024-03-14 -0.0007    -1  746.5\n",
            "2024-03-15 -0.0120    -1  737.5\n",
            "2024-03-18  0.0027    -1  741.0\n",
            "2024-03-19  0.0849    -1  803.5\n",
            "2024-03-20  0.0435    -1  820.0\n",
            "2024-03-21     NaN    -1  885.0\n",
            "VALO.BA ini\n"
          ]
        },
        {
          "output_type": "stream",
          "name": "stderr",
          "text": [
            "\r[*********************100%%**********************]  1 of 1 completed\n"
          ]
        },
        {
          "output_type": "stream",
          "name": "stdout",
          "text": [
            "Retorno medio de la etiqueta 0: 0.0129\n",
            "Retorno medio de la etiqueta 1: -0.0011\n",
            "Retorno medio de la etiqueta 2: nan\n",
            "VALO.BA\n",
            "            Return  Pred   Close\n",
            "Date                            \n",
            "2024-03-08 -0.0207    -1  237.00\n",
            "2024-03-11 -0.0085    -1  230.25\n",
            "2024-03-12  0.0448    -1  244.25\n",
            "2024-03-13  0.0000    -1  246.00\n",
            "2024-03-14 -0.0102    -1  240.25\n",
            "2024-03-15 -0.0144    -1  238.50\n",
            "2024-03-18  0.0167    -1  241.00\n",
            "2024-03-19  0.0000    -1  243.75\n",
            "2024-03-20  0.0350    -1  251.00\n",
            "2024-03-21     NaN    -1  254.50\n",
            "YPFD.BA ini\n"
          ]
        },
        {
          "output_type": "stream",
          "name": "stderr",
          "text": [
            "\r[*********************100%%**********************]  1 of 1 completed\n"
          ]
        },
        {
          "output_type": "stream",
          "name": "stdout",
          "text": [
            "Retorno medio de la etiqueta 0: 0.0066\n",
            "Retorno medio de la etiqueta 1: 0.0107\n",
            "Retorno medio de la etiqueta 2: nan\n",
            "YPFD.BA\n",
            "            Return  Pred     Close\n",
            "Date                              \n",
            "2024-03-08  0.0097    -1  18499.30\n",
            "2024-03-11 -0.0271    -1  17727.55\n",
            "2024-03-12  0.0683    -1  18838.55\n",
            "2024-03-13 -0.0105    -1  18956.20\n",
            "2024-03-14  0.0128    -1  19071.85\n",
            "2024-03-15  0.0215    -1  19300.20\n",
            "2024-03-18  0.0648     1  20786.70\n",
            "2024-03-19 -0.0072     1  20517.65\n",
            "2024-03-20  0.0457     1  21233.90\n",
            "2024-03-21     NaN     1  22268.75\n"
          ]
        }
      ]
    }
  ]
}